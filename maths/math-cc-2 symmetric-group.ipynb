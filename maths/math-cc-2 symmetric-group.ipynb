{
  "metadata": {
    "kernelspec": {
      "name": "python",
      "display_name": "Python (Pyodide)",
      "language": "python"
    },
    "language_info": {
      "codemirror_mode": {
        "name": "python",
        "version": 3
      },
      "file_extension": ".py",
      "mimetype": "text/x-python",
      "name": "python",
      "nbconvert_exporter": "python",
      "pygments_lexer": "ipython3",
      "version": "3.8"
    }
  },
  "nbformat_minor": 5,
  "nbformat": 4,
  "cells": [
    {
      "id": "a35eeb9f-df70-4ab1-a243-2d2025888eb0",
      "cell_type": "markdown",
      "source": "# Symmetric Groups\n\n\n\n## Introduction\n\nThe **Symmetric Group** $S_n$ on $n$ symbols consists of the set of permutations of the numbers $\\{1, ..., n\\}$.\n\nWe can write a permutation $\\sigma \\in S_n$ as a list:\n\n$$\n\\sigma = [a_1, a_2, ..., a_n]\n$$\n\nWhere $1 \\leq a_1, a_2, ..., a_n \\leq n$ are all distinct. In this notation, $\\sigma$ sends the number 1 to $a_1$, sends 2 to $a_2$, and in general sends $i$ to $a_i$. For example, if $n=4$, the \"do nothing\" or \"identity\" permutation is \n\n$$\ne = [1, 2, 3, 4]\n$$\n\nWhich sends 1 to 1, 2 to 2, 3 to 3, and 4 to 4. The permutation which swaps the even numbers between themselves and the odd numbers between themselves would be $[3, 4, 1, 2]$.\n\n",
      "metadata": {}
    },
    {
      "id": "b83cfa17-fbd4-4352-80cd-d144ed5de7c8",
      "cell_type": "markdown",
      "source": "For $\\sigma \\in S_n$ and $1 \\leq k \\leq n$, we write $\\sigma(k)$ for the number that $k$ gets evaluated to under $\\sigma$. For example, \n\n$$[1, 3, 4, 2](1) = 1,\\quad [1,3,4,2](2) = 3, ...$$\n\n**Question 1**: Write a function `eval` that takes a permutation $\\sigma$ and evaluates it at an integer $k$, such that $f(\\sigma, k) = \\sigma(k)$.",
      "metadata": {}
    },
    {
      "id": "908987e0-e99c-45a2-8512-d7839521173e",
      "cell_type": "code",
      "source": "def eval(sigma, k):\n    return\n\n#This function takes two inputs, 'sigma' and 'k'. You could test it by trying eval([4,2,3,1], 1), which should return 4.\n#Remember that python starts counting from 0, not 1!.\n\n    ",
      "metadata": {
        "trusted": true
      },
      "outputs": [],
      "execution_count": null
    },
    {
      "id": "60395165-57a5-458e-a122-a87d12d8fe3c",
      "cell_type": "markdown",
      "source": "We can multiply two permutations together to get a new one. If $\\sigma, \\tau \\in S_n$, then $\\sigma\\tau$ is the permutation that does $\\tau$ first, then $\\sigma$.\n\nAs an example, let $\\sigma = [1, 3, 4, 2]$ and $\\tau = [4,3,2,1]$. Then $\\tau$ sends 1 to 4, and $\\sigma$ sends 4 to 2, so $\\sigma\\tau$ altogether would send 1 to 2, and so $\\sigma\\tau = [2, ...]$. Similarly, $\\tau$ sends 2 to 3, which gets sent by $\\sigma$ to 4, so $\\sigma\\tau$ sends 2 to 4. Continuing on like this, we find $\\sigma\\tau = [2,4,3,1]$.\n\n\n**Question 2**: Define a function `f` which takes two permutations $\\sigma, \\tau \\in S_n$ and returns their product, so that $f(\\sigma, \\tau) = \\sigma\\tau$. Check this with the above example, and come up with your own!",
      "metadata": {}
    },
    {
      "id": "fe55883a-6887-43dd-9498-5333a51799e2",
      "cell_type": "code",
      "source": "def f(sigma, tau):\n    return \n\nsigma = [1,3,4,2]\nprint(len(sigma))\n#The 'len' function might help you here - this returns the length of the inputted list.\n\n    ",
      "metadata": {
        "trusted": true,
        "scrolled": true
      },
      "outputs": [
        {
          "name": "stdout",
          "output_type": "stream",
          "text": "4\n"
        }
      ],
      "execution_count": 1
    },
    {
      "id": "b9670d85-ef29-4dfd-b4b5-e76d279c1f1a",
      "cell_type": "markdown",
      "source": "**Question 3**: We can write $f(\\sigma, \\sigma) = \\sigma^2, f(\\sigma^2, \\sigma) = \\sigma^3$ and so on. Eventually, we will have that $\\sigma^k = e$, the identity permutation. We call the smallest possible (positive) $k$ the *order* of $\\sigma$. Write a function that determines the order of a permutation. To test, you should have that the order of [1,2,3,4] is 1 and the order of [3,4,2,1] is 4. Check other examples yourself by hand!",
      "metadata": {
        "jp-MarkdownHeadingCollapsed": true
      }
    },
    {
      "id": "3e4b153a-41e9-4355-abb4-117bbe7827b4",
      "cell_type": "code",
      "source": "def order(sigma):\n    return \n\n    ",
      "metadata": {
        "trusted": true,
        "scrolled": true
      },
      "outputs": [],
      "execution_count": null
    },
    {
      "id": "1318f871-238a-4dd0-9f67-a88ec1d01ce4",
      "cell_type": "markdown",
      "source": "**Question 4**: The function `all_perms` below produces a list of all elements of $S_n$. Using this, produce a list of the orders of elements in $S_n$.",
      "metadata": {
        "jp-MarkdownHeadingCollapsed": true
      }
    },
    {
      "id": "03208829-9092-4e3b-b021-6b1e146f963e",
      "cell_type": "code",
      "source": "n = 4\n\nfrom itertools import permutations as perms\nfrom math import factorial\n#This just imports some functions to help generate the list.\n\ndef all_perms(n):\n    return [list(list(perms([i+1 for i in range(n)]))[i]) for i in range(factorial(n))]\n#This weird looking function returns the list of all possible permutations - in Python, this will be a list of lists. \n#Now we can use e.g. all_perms(n) to get all permutations of 4 elements.\n\nmy_perms = all_perms(n)\n\n\n\n",
      "metadata": {
        "trusted": true
      },
      "outputs": [],
      "execution_count": null
    },
    {
      "id": "48e2c329-c158-4557-b565-c30567f29e0c",
      "cell_type": "markdown",
      "source": "**Question 5**: Now we have a list of all of the orders, write a function `ords` which takes the list of permutations `my_perms` and two positive integers $k$, $n$ as an input, and returns how many elements of order $k$ are in $S_n$. To test, try $n = 4$ and $k = 4$, which should return 6.",
      "metadata": {}
    },
    {
      "id": "78b4d421-c0d9-45a7-8da9-1d8d55d24c35",
      "cell_type": "code",
      "source": "def ords(my_perms,k,n):\n    return \n\n    ",
      "metadata": {
        "trusted": true
      },
      "outputs": [],
      "execution_count": null
    },
    {
      "id": "c7fc85cb-61ba-4a02-8c6a-d7720ee24529",
      "cell_type": "markdown",
      "source": "**Question 6**: Lagrange's Theorem states that an element $\\sigma \\in S_n$ must have order dividing $|S_n| = n!$. Write code to verify that Lagrange's Theorem holds for $n$, and test it for $n$ up to $5$.",
      "metadata": {}
    },
    {
      "id": "249e9b20-767e-49a0-869c-d299a3ab3645",
      "cell_type": "code",
      "source": "def lagrange_test(n):\n    lagrange = True\n    \n    return lagrange\n\n#Here, we are using the Boolean values 'True' and 'False'. If Lagrange's theorem holds, our function should return 'True'. If it doesn't, we should return 'False'. \n#You can add multiple 'return's if it helps with your code!\n",
      "metadata": {
        "trusted": true
      },
      "outputs": [],
      "execution_count": null
    },
    {
      "id": "80a6d91f-a0f4-4a5b-853a-652268a66a9b",
      "cell_type": "markdown",
      "source": "## Bonus: Inversions and the Sign Function\n\nGiven a permutation $\\sigma = [a_1, ..., a_n]$, and two positive integers $i<j$, we say $(i,j)$ is an *inversion* if $a_i > a_j$.\n\nFor example, let $\\sigma = [4, 1, 3, 2]$. Then $(1,4)$ is an inversion, since $a_1 = 4, a_4 = 2$, and so $a_1 > a_4$. The inversions of $\\sigma$ are $(1,4), (1,3), (1,2)$ and $(3, 4)$.\n\nThe sign function, written sgn, is then defined as\n\n$$ sgn(\\sigma) = \\begin{cases} \\phantom{-}1\\ \\ \\text{if}\\ \\sigma\\ \\text{has an even number of inversions,} \\\\\n-1\\ \\ \\text{if}\\ \\sigma\\ \\text{has an odd number of inversions.} \\end{cases}$$\n\nIn our last example, $\\sigma$ has 4 inversions and so sgn($\\sigma$) = 1.",
      "metadata": {}
    },
    {
      "id": "08c8d737-6ded-4bc2-a374-ca2896565987",
      "cell_type": "markdown",
      "source": "**Question 7**: \n\nWrite a function `inv` that computes the number of inversions of a permutation. Using this, write another function `sgn` which should give 1 is its input has an even number of inversions, and -1 if it has an odd number. For the previous example, you should have that `inv`(sigma) = 4, and `sgn`(sigma) = 1.",
      "metadata": {}
    },
    {
      "id": "9b1900e5-0c16-4231-a0db-d75f6a96f115",
      "cell_type": "code",
      "source": "def inv(sigma):\n    return \n\ndef sgn(sigma):\n    return",
      "metadata": {
        "trusted": true
      },
      "outputs": [],
      "execution_count": null
    },
    {
      "id": "40e603ec-800e-4062-a34c-d9d548b26ba4",
      "cell_type": "markdown",
      "source": "**Question 8**: The function `sgn` is a *homomorphism*, which means that sgn$(\\sigma \\tau) = $ sgn$(\\sigma)$ sgn$(\\sigma)$. Write code that demonstrates this is true for two permutations, and find some examples to check.",
      "metadata": {}
    },
    {
      "id": "6dc71c69-e984-4dcd-931d-ebd82c071535",
      "cell_type": "code",
      "source": "#To do this, you will want to first caluate sgn of sigma and sgn of tau, then compare this with the value of sgn of sigma * tau.\n\ndef hom_test(sigma, tau):\n    return\n",
      "metadata": {
        "trusted": true
      },
      "outputs": [],
      "execution_count": null
    }
  ]
}